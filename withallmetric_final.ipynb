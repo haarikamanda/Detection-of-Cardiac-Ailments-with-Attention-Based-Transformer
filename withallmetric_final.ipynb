{
  "cells": [
    {
      "cell_type": "code",
      "execution_count": 1,
      "metadata": {
        "id": "d2PP5D-LIk2x"
      },
      "outputs": [],
      "source": [
        "import numpy as np\n",
        "import matplotlib.pyplot as plt\n",
        "from sklearn.model_selection import train_test_split\n",
        "import numpy as np\n",
        "import tensorflow as tf\n",
        "from tensorflow import keras\n",
        "from tensorflow.keras import layers\n"
      ]
    },
    {
      "cell_type": "code",
      "execution_count": 2,
      "metadata": {
        "colab": {
          "base_uri": "https://localhost:8080/"
        },
        "id": "3SqlMt6XOJbt",
        "outputId": "456445f1-8231-402a-f6e7-a0a917d6d95a"
      },
      "outputs": [
        {
          "output_type": "stream",
          "name": "stdout",
          "text": [
            "Looking in indexes: https://pypi.org/simple, https://us-python.pkg.dev/colab-wheels/public/simple/\n",
            "Requirement already satisfied: tensorflow-addons in /usr/local/lib/python3.7/dist-packages (0.17.1)\n",
            "Requirement already satisfied: typeguard>=2.7 in /usr/local/lib/python3.7/dist-packages (from tensorflow-addons) (2.7.1)\n",
            "Requirement already satisfied: packaging in /usr/local/lib/python3.7/dist-packages (from tensorflow-addons) (21.3)\n",
            "Requirement already satisfied: pyparsing!=3.0.5,>=2.0.2 in /usr/local/lib/python3.7/dist-packages (from packaging->tensorflow-addons) (3.0.9)\n"
          ]
        }
      ],
      "source": [
        "!pip install -U tensorflow-addons"
      ]
    },
    {
      "cell_type": "code",
      "execution_count": 3,
      "metadata": {
        "id": "xyr4v7k-OJK2"
      },
      "outputs": [],
      "source": [
        "import tensorflow_addons as tfa"
      ]
    },
    {
      "cell_type": "code",
      "execution_count": 4,
      "metadata": {
        "colab": {
          "base_uri": "https://localhost:8080/"
        },
        "id": "7PlBB0eYHCQ_",
        "outputId": "4d58e675-43d1-44ed-d2f0-0e8049b8b374"
      },
      "outputs": [
        {
          "output_type": "stream",
          "name": "stdout",
          "text": [
            "Drive already mounted at /content/drive; to attempt to forcibly remount, call drive.mount(\"/content/drive\", force_remount=True).\n"
          ]
        }
      ],
      "source": [
        "from google.colab import drive\n",
        "drive.mount('/content/drive')"
      ]
    },
    {
      "cell_type": "code",
      "execution_count": 5,
      "metadata": {
        "id": "MGyGXzOuGfcv"
      },
      "outputs": [],
      "source": [
        "SR_data = np.load('/content/drive/MyDrive/ECG_LEAD_arrarys/SR_lead8_f.npy')"
      ]
    },
    {
      "cell_type": "code",
      "execution_count": 6,
      "metadata": {
        "id": "ySUVulxhHFkz"
      },
      "outputs": [],
      "source": [
        "AFIB_data=np.load('/content/drive/MyDrive/ECG_LEAD_arrarys/AFIB_lead8_f.npy')"
      ]
    },
    {
      "cell_type": "code",
      "execution_count": 7,
      "metadata": {
        "colab": {
          "base_uri": "https://localhost:8080/"
        },
        "id": "I9Ng0P9NNt-s",
        "outputId": "eb1131ec-2ed3-49d8-f271-85917aa8fdf1"
      },
      "outputs": [
        {
          "output_type": "execute_result",
          "data": {
            "text/plain": [
              "(1000, 217, 334, 3)"
            ]
          },
          "metadata": {},
          "execution_count": 7
        }
      ],
      "source": [
        "SR_data.shape"
      ]
    },
    {
      "cell_type": "code",
      "execution_count": 8,
      "metadata": {
        "id": "sAFgUa6KNyFq"
      },
      "outputs": [],
      "source": [
        "input_shape=SR_data[0].shape"
      ]
    },
    {
      "cell_type": "code",
      "execution_count": 9,
      "metadata": {
        "colab": {
          "base_uri": "https://localhost:8080/"
        },
        "id": "J8Na2zKhN2sA",
        "outputId": "bda83009-f0b7-48e8-8269-bec6de1ff69e"
      },
      "outputs": [
        {
          "output_type": "execute_result",
          "data": {
            "text/plain": [
              "(217, 334, 3)"
            ]
          },
          "metadata": {},
          "execution_count": 9
        }
      ],
      "source": [
        "input_shape"
      ]
    },
    {
      "cell_type": "code",
      "execution_count": 10,
      "metadata": {
        "colab": {
          "base_uri": "https://localhost:8080/"
        },
        "id": "MSzgQwA0HQtl",
        "outputId": "d5b07566-3da0-4b8b-84fa-e9334eebeeca"
      },
      "outputs": [
        {
          "output_type": "execute_result",
          "data": {
            "text/plain": [
              "(2000,)"
            ]
          },
          "metadata": {},
          "execution_count": 10
        }
      ],
      "source": [
        "class_SR=np.zeros((1000,1))\n",
        "class_AFIB=np.ones((1000,1))\n",
        "Y_data=np.append(class_SR,class_AFIB)\n",
        "Y_data.shape"
      ]
    },
    {
      "cell_type": "code",
      "execution_count": 11,
      "metadata": {
        "id": "s0nQxPsMHjQb"
      },
      "outputs": [],
      "source": [
        "data=np.concatenate((SR_data,AFIB_data))"
      ]
    },
    {
      "cell_type": "code",
      "execution_count": 12,
      "metadata": {
        "colab": {
          "base_uri": "https://localhost:8080/"
        },
        "id": "Gc4UNT7wIJqy",
        "outputId": "28208f5a-c01f-4129-b119-cb7f057bff71"
      },
      "outputs": [
        {
          "output_type": "execute_result",
          "data": {
            "text/plain": [
              "(2000, 217, 334, 3)"
            ]
          },
          "metadata": {},
          "execution_count": 12
        }
      ],
      "source": [
        "data.shape"
      ]
    },
    {
      "cell_type": "code",
      "execution_count": 13,
      "metadata": {
        "id": "a4CBKjPtI428"
      },
      "outputs": [],
      "source": [
        "X_train, X_test, Y_train, Y_test = train_test_split(data,Y_data,test_size=0.2,shuffle=True,random_state=42)\n"
      ]
    },
    {
      "cell_type": "code",
      "execution_count": 14,
      "metadata": {
        "id": "I5WfU06ILv5l"
      },
      "outputs": [],
      "source": [
        "Y_train=Y_train.reshape(1600,1)\n",
        "Y_test=Y_test.reshape(400,1)"
      ]
    },
    {
      "cell_type": "code",
      "execution_count": 15,
      "metadata": {
        "colab": {
          "base_uri": "https://localhost:8080/"
        },
        "id": "jOVOj2D3JGpQ",
        "outputId": "0a48a62d-65e9-4d13-f2ad-efb15ea6c065"
      },
      "outputs": [
        {
          "output_type": "execute_result",
          "data": {
            "text/plain": [
              "(1600, 1)"
            ]
          },
          "metadata": {},
          "execution_count": 15
        }
      ],
      "source": [
        "Y_train.shape"
      ]
    },
    {
      "cell_type": "code",
      "execution_count": 16,
      "metadata": {
        "id": "_avr-9a7jvuL"
      },
      "outputs": [],
      "source": [
        "SR_data = np.load('/content/drive/MyDrive/ECG_LEAD_arrarys/SR_lead8_f.npy')\n",
        "AFIB_data=np.load('/content/drive/MyDrive/ECG_LEAD_arrarys/AFIB_lead8_f.npy')\n",
        "SR_data.shape\n",
        "input_shape=SR_data[0].shape\n",
        "class_SR=np.zeros((1000,1))\n",
        "class_AFIB=np.ones((1000,1))\n",
        "Y_data=np.append(class_SR,class_AFIB)\n",
        "data=np.concatenate((SR_data,AFIB_data))\n",
        "X_train8, X_test8, Y_train8, Y_test8 = train_test_split(data,Y_data,test_size=0.2,shuffle=True,random_state=42)\n",
        "#Y_train8=Y_train8.reshape(1600,1)\n",
        "#Y_test8=Y_test8.reshape(400,1)"
      ]
    },
    {
      "cell_type": "code",
      "execution_count": 17,
      "metadata": {
        "id": "nrHZpNRBj53I"
      },
      "outputs": [],
      "source": [
        "SR_data = np.load('/content/drive/MyDrive/SR_100_samp.npy')\n",
        "AFIB_data=np.load('/content/drive/MyDrive/AFIB_100_samp.npy')\n",
        "SR_data.shape\n",
        "input_shape=SR_data[0].shape\n",
        "class_SR=np.zeros((1000,1))\n",
        "class_AFIB=np.ones((1000,1))\n",
        "Y_data=np.append(class_SR,class_AFIB)\n",
        "data=np.concatenate((SR_data,AFIB_data))\n",
        "X_train2, X_test2, Y_train2, Y_test2 = train_test_split(data,Y_data,test_size=0.2,shuffle=True,random_state=42)\n",
        "Y_train2=Y_train2.reshape(1600,1)\n",
        "Y_test2=Y_test2.reshape(400,1)"
      ]
    },
    {
      "cell_type": "code",
      "execution_count": 18,
      "metadata": {
        "id": "hAyrS5qZNW3r"
      },
      "outputs": [],
      "source": [
        "num_classes = 2\n"
      ]
    },
    {
      "cell_type": "code",
      "execution_count": 19,
      "metadata": {
        "id": "M6XSQ8jfK_pX"
      },
      "outputs": [],
      "source": [
        "learning_rate = 0.001\n",
        "weight_decay = 0.0001\n",
        "batch_size = 128\n",
        "num_epochs = 50\n",
        "image_size = 100  # We'll resize input images to this size\n",
        "patch_size = 10  # Size of the patches to be extract from the input images\n",
        "num_patches = (image_size // patch_size) ** 2\n",
        "projection_dim = 64\n",
        "num_heads = 4\n",
        "transformer_units = [\n",
        "    projection_dim * 2,\n",
        "    projection_dim,\n",
        "]  # Size of the transformer layers\n",
        "transformer_layers = 8\n",
        "mlp_head_units = [2048, 1024]  # Size of the dense layers of the final classifier"
      ]
    },
    {
      "cell_type": "code",
      "execution_count": 20,
      "metadata": {
        "id": "SZx9kJ6aLXoe"
      },
      "outputs": [],
      "source": [
        "data_augmentation = keras.Sequential(\n",
        "    [\n",
        "        layers.Normalization(),\n",
        "        layers.Resizing(image_size, image_size),\n",
        "        layers.RandomFlip(\"horizontal\"),\n",
        "        layers.RandomRotation(factor=0.02),\n",
        "        layers.RandomZoom(\n",
        "            height_factor=0.2, width_factor=0.2\n",
        "        ),\n",
        "    ],\n",
        "    name=\"data_augmentation\",\n",
        ")\n",
        "# Compute the mean and the variance of the training data for normalization.\n",
        "data_augmentation.layers[0].adapt(X_train)"
      ]
    },
    {
      "cell_type": "code",
      "execution_count": 21,
      "metadata": {
        "id": "utAzPxt3MU3w"
      },
      "outputs": [],
      "source": [
        "class Patches(layers.Layer):\n",
        "    def __init__(self, patch_size):\n",
        "        super(Patches, self).__init__()\n",
        "        self.patch_size = patch_size\n",
        "\n",
        "    def call(self, images):\n",
        "        batch_size = tf.shape(images)[0]\n",
        "        patches = tf.image.extract_patches(\n",
        "            images=images,\n",
        "            sizes=[1, self.patch_size, self.patch_size, 1],\n",
        "            strides=[1, self.patch_size, self.patch_size, 1],\n",
        "            rates=[1, 1, 1, 1],\n",
        "            padding=\"VALID\",\n",
        "        )\n",
        "        patch_dims = patches.shape[-1]\n",
        "        patches = tf.reshape(patches, [batch_size, -1, patch_dims])\n",
        "        return patches"
      ]
    },
    {
      "cell_type": "code",
      "execution_count": 22,
      "metadata": {
        "id": "MKG_RolHNIMt"
      },
      "outputs": [],
      "source": [
        "class PatchEncoder(layers.Layer):\n",
        "    def __init__(self, num_patches, projection_dim):\n",
        "        super(PatchEncoder, self).__init__()\n",
        "        self.num_patches = num_patches\n",
        "        self.projection = layers.Dense(units=projection_dim)\n",
        "        self.position_embedding = layers.Embedding(\n",
        "            input_dim=num_patches, output_dim=projection_dim\n",
        "        )\n",
        "\n",
        "    def call(self, patch):\n",
        "        positions = tf.range(start=0, limit=self.num_patches, delta=1)\n",
        "        encoded = self.projection(patch) + self.position_embedding(positions)\n",
        "        return encoded"
      ]
    },
    {
      "cell_type": "code",
      "execution_count": 23,
      "metadata": {
        "id": "2EPYWYAMMT4w"
      },
      "outputs": [],
      "source": [
        "def mlp(x, hidden_units, dropout_rate):\n",
        "    for units in hidden_units:\n",
        "        x = layers.Dense(units, activation=tf.nn.gelu)(x)\n",
        "        x = layers.Dropout(dropout_rate)(x)\n",
        "    return x"
      ]
    },
    {
      "cell_type": "code",
      "execution_count": 24,
      "metadata": {
        "colab": {
          "base_uri": "https://localhost:8080/",
          "height": 245
        },
        "id": "mmuV_w4_2rmB",
        "outputId": "1423d39a-e2d0-4b28-98f6-b2c81a7179b7"
      },
      "outputs": [
        {
          "output_type": "stream",
          "name": "stdout",
          "text": [
            "Image size: 100 X 100\n",
            "Patch size: 10 X 10\n",
            "Patches per image: 100\n",
            "Elements per patch: 300\n"
          ]
        },
        {
          "output_type": "display_data",
          "data": {
            "text/plain": [
              "<Figure size 288x288 with 1 Axes>"
            ],
            "image/png": "[encoded data removed]"
          },
          "metadata": {
            "needs_background": "light"
          }
        }
      ],
      "source": [
        "import matplotlib.pyplot as plt\n",
        "\n",
        "plt.figure(figsize=(4, 4))\n",
        "image = X_train[np.random.choice(range(X_train.shape[0]))]\n",
        "plt.imshow(image)\n",
        "plt.axis(\"off\")\n",
        "\n",
        "resized_image = tf.image.resize(\n",
        "    tf.convert_to_tensor([image]), size=(image_size, image_size)\n",
        ")\n",
        "patches = Patches(patch_size)(resized_image)\n",
        "print(f\"Image size: {image_size} X {image_size}\")\n",
        "print(f\"Patch size: {patch_size} X {patch_size}\")\n",
        "print(f\"Patches per image: {patches.shape[1]}\")\n",
        "print(f\"Elements per patch: {patches.shape[-1]}\")\n"
      ]
    },
    {
      "cell_type": "code",
      "execution_count": 25,
      "metadata": {
        "id": "PWRpDZIuiJvA"
      },
      "outputs": [],
      "source": [
        " def transformer_encoder(input_patches):\n",
        "        layer1 = layers.LayerNormalization(epsilon=1e-6)(input_patches) #normalization\n",
        "        attention_output = layers.MultiHeadAttention(  \n",
        "            num_heads=num_heads, key_dim=projection_dim, dropout=0.1\n",
        "        )(layer1, layer1)   #multiheaded attention\n",
        "        layer2 = layers.Add()([attention_output, input_patches]) #adding attention output with encoded patches\n",
        "        layer3 = layers.LayerNormalization(epsilon=1e-6)(layer2)  #normalization\n",
        "        layer3 = mlp(layer3, hidden_units=transformer_units, dropout_rate=0.1) #Multilayer perceptron\n",
        "        input_patches = layers.Add()([layer3, layer2])    #adding MLP output with normalized encoded patches output\n",
        "        return input_patches\n"
      ]
    },
    {
      "cell_type": "code",
      "execution_count": 26,
      "metadata": {
        "id": "ZQzaJkcrZjFj"
      },
      "outputs": [],
      "source": [
        " def leadattention(inputs):\n",
        "      augmented = data_augmentation(inputs) #data augmentation\n",
        "      patches = Patches(patch_size)(augmented) #splitting image into patches\n",
        "      encoded_patches = PatchEncoder(num_patches, projection_dim)(patches)\n",
        "      for _ in range(transformer_layers):\n",
        "        encoded_patches=transformer_encoder(encoded_patches)   \n",
        "      representation = layers.LayerNormalization(epsilon=1e-6)(encoded_patches)  #aggregating data from all transformer blocks and layers\n",
        "      representation = layers.Flatten()(representation)     #flatten the data for MLP\n",
        "      return representation \n"
      ]
    },
    {
      "cell_type": "code",
      "execution_count": 27,
      "metadata": {
        "id": "51cKMKM3NKxS"
      },
      "outputs": [],
      "source": [
        "def create_ECG_image_classifier():\n",
        "    input1 = layers.Input(shape=input_shape)\n",
        "    input2 = layers.Input(shape=input_shape)\n",
        "    rep1=leadattention(input1)\n",
        "    rep2=leadattention(input2)\n",
        "    representationm=layers.concatenate([rep1,rep2])\n",
        "    representation = layers.Dropout(0.5)(representationm)\n",
        "    features = mlp(representation, hidden_units=mlp_head_units, dropout_rate=0.5)\n",
        "    logits = layers.Dense(num_classes)(features)  #final binary classification \n",
        "    model = keras.Model(inputs=[input1,input2], outputs=logits)\n",
        "    return model"
      ]
    },
    {
      "cell_type": "code",
      "source": [
        "y_train = keras.utils.to_categorical(Y_train,2)\n",
        "y_test = keras.utils.to_categorical(Y_test8,2)"
      ],
      "metadata": {
        "id": "mWc4TL4zbaOC"
      },
      "execution_count": 28,
      "outputs": []
    },
    {
      "cell_type": "code",
      "execution_count": 29,
      "metadata": {
        "colab": {
          "base_uri": "https://localhost:8080/"
        },
        "id": "UQM3DtMENOZb",
        "outputId": "eb9ea6c7-fd33-484a-8aed-d3ccd02ae2c3"
      },
      "outputs": [
        {
          "output_type": "stream",
          "name": "stdout",
          "text": [
            "Model: \"model\"\n",
            "__________________________________________________________________________________________________\n",
            " Layer (type)                   Output Shape         Param #     Connected to                     \n",
            "==================================================================================================\n",
            " input_1 (InputLayer)           [(None, 217, 334, 3  0           []                               \n",
            "                                )]                                                                \n",
            "                                                                                                  \n",
            " input_2 (InputLayer)           [(None, 217, 334, 3  0           []                               \n",
            "                                )]                                                                \n",
            "                                                                                                  \n",
            " data_augmentation (Sequential)  (None, 100, 100, 3)  7          ['input_1[0][0]',                \n",
            "                                                                  'input_2[0][0]']                \n",
            "                                                                                                  \n",
            " patches_1 (Patches)            (None, None, 300)    0           ['data_augmentation[0][0]']      \n",
            "                                                                                                  \n",
            " patches_2 (Patches)            (None, None, 300)    0           ['data_augmentation[1][0]']      \n",
            "                                                                                                  \n",
            " patch_encoder (PatchEncoder)   (None, 100, 64)      25664       ['patches_1[0][0]']              \n",
            "                                                                                                  \n",
            " patch_encoder_1 (PatchEncoder)  (None, 100, 64)     25664       ['patches_2[0][0]']              \n",
            "                                                                                                  \n",
            " layer_normalization (LayerNorm  (None, 100, 64)     128         ['patch_encoder[0][0]']          \n",
            " alization)                                                                                       \n",
            "                                                                                                  \n",
            " layer_normalization_17 (LayerN  (None, 100, 64)     128         ['patch_encoder_1[0][0]']        \n",
            " ormalization)                                                                                    \n",
            "                                                                                                  \n",
            " multi_head_attention (MultiHea  (None, 100, 64)     66368       ['layer_normalization[0][0]',    \n",
            " dAttention)                                                      'layer_normalization[0][0]']    \n",
            "                                                                                                  \n",
            " multi_head_attention_8 (MultiH  (None, 100, 64)     66368       ['layer_normalization_17[0][0]', \n",
            " eadAttention)                                                    'layer_normalization_17[0][0]'] \n",
            "                                                                                                  \n",
            " add (Add)                      (None, 100, 64)      0           ['multi_head_attention[0][0]',   \n",
            "                                                                  'patch_encoder[0][0]']          \n",
            "                                                                                                  \n",
            " add_16 (Add)                   (None, 100, 64)      0           ['multi_head_attention_8[0][0]', \n",
            "                                                                  'patch_encoder_1[0][0]']        \n",
            "                                                                                                  \n",
            " layer_normalization_1 (LayerNo  (None, 100, 64)     128         ['add[0][0]']                    \n",
            " rmalization)                                                                                     \n",
            "                                                                                                  \n",
            " layer_normalization_18 (LayerN  (None, 100, 64)     128         ['add_16[0][0]']                 \n",
            " ormalization)                                                                                    \n",
            "                                                                                                  \n",
            " dense_1 (Dense)                (None, 100, 128)     8320        ['layer_normalization_1[0][0]']  \n",
            "                                                                                                  \n",
            " dense_18 (Dense)               (None, 100, 128)     8320        ['layer_normalization_18[0][0]'] \n",
            "                                                                                                  \n",
            " dropout (Dropout)              (None, 100, 128)     0           ['dense_1[0][0]']                \n",
            "                                                                                                  \n",
            " dropout_16 (Dropout)           (None, 100, 128)     0           ['dense_18[0][0]']               \n",
            "                                                                                                  \n",
            " dense_2 (Dense)                (None, 100, 64)      8256        ['dropout[0][0]']                \n",
            "                                                                                                  \n",
            " dense_19 (Dense)               (None, 100, 64)      8256        ['dropout_16[0][0]']             \n",
            "                                                                                                  \n",
            " dropout_1 (Dropout)            (None, 100, 64)      0           ['dense_2[0][0]']                \n",
            "                                                                                                  \n",
            " dropout_17 (Dropout)           (None, 100, 64)      0           ['dense_19[0][0]']               \n",
            "                                                                                                  \n",
            " add_1 (Add)                    (None, 100, 64)      0           ['dropout_1[0][0]',              \n",
            "                                                                  'add[0][0]']                    \n",
            "                                                                                                  \n",
            " add_17 (Add)                   (None, 100, 64)      0           ['dropout_17[0][0]',             \n",
            "                                                                  'add_16[0][0]']                 \n",
            "                                                                                                  \n",
            " layer_normalization_2 (LayerNo  (None, 100, 64)     128         ['add_1[0][0]']                  \n",
            " rmalization)                                                                                     \n",
            "                                                                                                  \n",
            " layer_normalization_19 (LayerN  (None, 100, 64)     128         ['add_17[0][0]']                 \n",
            " ormalization)                                                                                    \n",
            "                                                                                                  \n",
            " multi_head_attention_1 (MultiH  (None, 100, 64)     66368       ['layer_normalization_2[0][0]',  \n",
            " eadAttention)                                                    'layer_normalization_2[0][0]']  \n",
            "                                                                                                  \n",
            " multi_head_attention_9 (MultiH  (None, 100, 64)     66368       ['layer_normalization_19[0][0]', \n",
            " eadAttention)                                                    'layer_normalization_19[0][0]'] \n",
            "                                                                                                  \n",
            " add_2 (Add)                    (None, 100, 64)      0           ['multi_head_attention_1[0][0]', \n",
            "                                                                  'add_1[0][0]']                  \n",
            "                                                                                                  \n",
            " add_18 (Add)                   (None, 100, 64)      0           ['multi_head_attention_9[0][0]', \n",
            "                                                                  'add_17[0][0]']                 \n",
            "                                                                                                  \n",
            " layer_normalization_3 (LayerNo  (None, 100, 64)     128         ['add_2[0][0]']                  \n",
            " rmalization)                                                                                     \n",
            "                                                                                                  \n",
            " layer_normalization_20 (LayerN  (None, 100, 64)     128         ['add_18[0][0]']                 \n",
            " ormalization)                                                                                    \n",
            "                                                                                                  \n",
            " dense_3 (Dense)                (None, 100, 128)     8320        ['layer_normalization_3[0][0]']  \n",
            "                                                                                                  \n",
            " dense_20 (Dense)               (None, 100, 128)     8320        ['layer_normalization_20[0][0]'] \n",
            "                                                                                                  \n",
            " dropout_2 (Dropout)            (None, 100, 128)     0           ['dense_3[0][0]']                \n",
            "                                                                                                  \n",
            " dropout_18 (Dropout)           (None, 100, 128)     0           ['dense_20[0][0]']               \n",
            "                                                                                                  \n",
            " dense_4 (Dense)                (None, 100, 64)      8256        ['dropout_2[0][0]']              \n",
            "                                                                                                  \n",
            " dense_21 (Dense)               (None, 100, 64)      8256        ['dropout_18[0][0]']             \n",
            "                                                                                                  \n",
            " dropout_3 (Dropout)            (None, 100, 64)      0           ['dense_4[0][0]']                \n",
            "                                                                                                  \n",
            " dropout_19 (Dropout)           (None, 100, 64)      0           ['dense_21[0][0]']               \n",
            "                                                                                                  \n",
            " add_3 (Add)                    (None, 100, 64)      0           ['dropout_3[0][0]',              \n",
            "                                                                  'add_2[0][0]']                  \n",
            "                                                                                                  \n",
            " add_19 (Add)                   (None, 100, 64)      0           ['dropout_19[0][0]',             \n",
            "                                                                  'add_18[0][0]']                 \n",
            "                                                                                                  \n",
            " layer_normalization_4 (LayerNo  (None, 100, 64)     128         ['add_3[0][0]']                  \n",
            " rmalization)                                                                                     \n",
            "                                                                                                  \n",
            " layer_normalization_21 (LayerN  (None, 100, 64)     128         ['add_19[0][0]']                 \n",
            " ormalization)                                                                                    \n",
            "                                                                                                  \n",
            " multi_head_attention_2 (MultiH  (None, 100, 64)     66368       ['layer_normalization_4[0][0]',  \n",
            " eadAttention)                                                    'layer_normalization_4[0][0]']  \n",
            "                                                                                                  \n",
            " multi_head_attention_10 (Multi  (None, 100, 64)     66368       ['layer_normalization_21[0][0]', \n",
            " HeadAttention)                                                   'layer_normalization_21[0][0]'] \n",
            "                                                                                                  \n",
            " add_4 (Add)                    (None, 100, 64)      0           ['multi_head_attention_2[0][0]', \n",
            "                                                                  'add_3[0][0]']                  \n",
            "                                                                                                  \n",
            " add_20 (Add)                   (None, 100, 64)      0           ['multi_head_attention_10[0][0]',\n",
            "                                                                  'add_19[0][0]']                 \n",
            "                                                                                                  \n",
            " layer_normalization_5 (LayerNo  (None, 100, 64)     128         ['add_4[0][0]']                  \n",
            " rmalization)                                                                                     \n",
            "                                                                                                  \n",
            " layer_normalization_22 (LayerN  (None, 100, 64)     128         ['add_20[0][0]']                 \n",
            " ormalization)                                                                                    \n",
            "                                                                                                  \n",
            " dense_5 (Dense)                (None, 100, 128)     8320        ['layer_normalization_5[0][0]']  \n",
            "                                                                                                  \n",
            " dense_22 (Dense)               (None, 100, 128)     8320        ['layer_normalization_22[0][0]'] \n",
            "                                                                                                  \n",
            " dropout_4 (Dropout)            (None, 100, 128)     0           ['dense_5[0][0]']                \n",
            "                                                                                                  \n",
            " dropout_20 (Dropout)           (None, 100, 128)     0           ['dense_22[0][0]']               \n",
            "                                                                                                  \n",
            " dense_6 (Dense)                (None, 100, 64)      8256        ['dropout_4[0][0]']              \n",
            "                                                                                                  \n",
            " dense_23 (Dense)               (None, 100, 64)      8256        ['dropout_20[0][0]']             \n",
            "                                                                                                  \n",
            " dropout_5 (Dropout)            (None, 100, 64)      0           ['dense_6[0][0]']                \n",
            "                                                                                                  \n",
            " dropout_21 (Dropout)           (None, 100, 64)      0           ['dense_23[0][0]']               \n",
            "                                                                                                  \n",
            " add_5 (Add)                    (None, 100, 64)      0           ['dropout_5[0][0]',              \n",
            "                                                                  'add_4[0][0]']                  \n",
            "                                                                                                  \n",
            " add_21 (Add)                   (None, 100, 64)      0           ['dropout_21[0][0]',             \n",
            "                                                                  'add_20[0][0]']                 \n",
            "                                                                                                  \n",
            " layer_normalization_6 (LayerNo  (None, 100, 64)     128         ['add_5[0][0]']                  \n",
            " rmalization)                                                                                     \n",
            "                                                                                                  \n",
            " layer_normalization_23 (LayerN  (None, 100, 64)     128         ['add_21[0][0]']                 \n",
            " ormalization)                                                                                    \n",
            "                                                                                                  \n",
            " multi_head_attention_3 (MultiH  (None, 100, 64)     66368       ['layer_normalization_6[0][0]',  \n",
            " eadAttention)                                                    'layer_normalization_6[0][0]']  \n",
            "                                                                                                  \n",
            " multi_head_attention_11 (Multi  (None, 100, 64)     66368       ['layer_normalization_23[0][0]', \n",
            " HeadAttention)                                                   'layer_normalization_23[0][0]'] \n",
            "                                                                                                  \n",
            " add_6 (Add)                    (None, 100, 64)      0           ['multi_head_attention_3[0][0]', \n",
            "                                                                  'add_5[0][0]']                  \n",
            "                                                                                                  \n",
            " add_22 (Add)                   (None, 100, 64)      0           ['multi_head_attention_11[0][0]',\n",
            "                                                                  'add_21[0][0]']                 \n",
            "                                                                                                  \n",
            " layer_normalization_7 (LayerNo  (None, 100, 64)     128         ['add_6[0][0]']                  \n",
            " rmalization)                                                                                     \n",
            "                                                                                                  \n",
            " layer_normalization_24 (LayerN  (None, 100, 64)     128         ['add_22[0][0]']                 \n",
            " ormalization)                                                                                    \n",
            "                                                                                                  \n",
            " dense_7 (Dense)                (None, 100, 128)     8320        ['layer_normalization_7[0][0]']  \n",
            "                                                                                                  \n",
            " dense_24 (Dense)               (None, 100, 128)     8320        ['layer_normalization_24[0][0]'] \n",
            "                                                                                                  \n",
            " dropout_6 (Dropout)            (None, 100, 128)     0           ['dense_7[0][0]']                \n",
            "                                                                                                  \n",
            " dropout_22 (Dropout)           (None, 100, 128)     0           ['dense_24[0][0]']               \n",
            "                                                                                                  \n",
            " dense_8 (Dense)                (None, 100, 64)      8256        ['dropout_6[0][0]']              \n",
            "                                                                                                  \n",
            " dense_25 (Dense)               (None, 100, 64)      8256        ['dropout_22[0][0]']             \n",
            "                                                                                                  \n",
            " dropout_7 (Dropout)            (None, 100, 64)      0           ['dense_8[0][0]']                \n",
            "                                                                                                  \n",
            " dropout_23 (Dropout)           (None, 100, 64)      0           ['dense_25[0][0]']               \n",
            "                                                                                                  \n",
            " add_7 (Add)                    (None, 100, 64)      0           ['dropout_7[0][0]',              \n",
            "                                                                  'add_6[0][0]']                  \n",
            "                                                                                                  \n",
            " add_23 (Add)                   (None, 100, 64)      0           ['dropout_23[0][0]',             \n",
            "                                                                  'add_22[0][0]']                 \n",
            "                                                                                                  \n",
            " layer_normalization_8 (LayerNo  (None, 100, 64)     128         ['add_7[0][0]']                  \n",
            " rmalization)                                                                                     \n",
            "                                                                                                  \n",
            " layer_normalization_25 (LayerN  (None, 100, 64)     128         ['add_23[0][0]']                 \n",
            " ormalization)                                                                                    \n",
            "                                                                                                  \n",
            " multi_head_attention_4 (MultiH  (None, 100, 64)     66368       ['layer_normalization_8[0][0]',  \n",
            " eadAttention)                                                    'layer_normalization_8[0][0]']  \n",
            "                                                                                                  \n",
            " multi_head_attention_12 (Multi  (None, 100, 64)     66368       ['layer_normalization_25[0][0]', \n",
            " HeadAttention)                                                   'layer_normalization_25[0][0]'] \n",
            "                                                                                                  \n",
            " add_8 (Add)                    (None, 100, 64)      0           ['multi_head_attention_4[0][0]', \n",
            "                                                                  'add_7[0][0]']                  \n",
            "                                                                                                  \n",
            " add_24 (Add)                   (None, 100, 64)      0           ['multi_head_attention_12[0][0]',\n",
            "                                                                  'add_23[0][0]']                 \n",
            "                                                                                                  \n",
            " layer_normalization_9 (LayerNo  (None, 100, 64)     128         ['add_8[0][0]']                  \n",
            " rmalization)                                                                                     \n",
            "                                                                                                  \n",
            " layer_normalization_26 (LayerN  (None, 100, 64)     128         ['add_24[0][0]']                 \n",
            " ormalization)                                                                                    \n",
            "                                                                                                  \n",
            " dense_9 (Dense)                (None, 100, 128)     8320        ['layer_normalization_9[0][0]']  \n",
            "                                                                                                  \n",
            " dense_26 (Dense)               (None, 100, 128)     8320        ['layer_normalization_26[0][0]'] \n",
            "                                                                                                  \n",
            " dropout_8 (Dropout)            (None, 100, 128)     0           ['dense_9[0][0]']                \n",
            "                                                                                                  \n",
            " dropout_24 (Dropout)           (None, 100, 128)     0           ['dense_26[0][0]']               \n",
            "                                                                                                  \n",
            " dense_10 (Dense)               (None, 100, 64)      8256        ['dropout_8[0][0]']              \n",
            "                                                                                                  \n",
            " dense_27 (Dense)               (None, 100, 64)      8256        ['dropout_24[0][0]']             \n",
            "                                                                                                  \n",
            " dropout_9 (Dropout)            (None, 100, 64)      0           ['dense_10[0][0]']               \n",
            "                                                                                                  \n",
            " dropout_25 (Dropout)           (None, 100, 64)      0           ['dense_27[0][0]']               \n",
            "                                                                                                  \n",
            " add_9 (Add)                    (None, 100, 64)      0           ['dropout_9[0][0]',              \n",
            "                                                                  'add_8[0][0]']                  \n",
            "                                                                                                  \n",
            " add_25 (Add)                   (None, 100, 64)      0           ['dropout_25[0][0]',             \n",
            "                                                                  'add_24[0][0]']                 \n",
            "                                                                                                  \n",
            " layer_normalization_10 (LayerN  (None, 100, 64)     128         ['add_9[0][0]']                  \n",
            " ormalization)                                                                                    \n",
            "                                                                                                  \n",
            " layer_normalization_27 (LayerN  (None, 100, 64)     128         ['add_25[0][0]']                 \n",
            " ormalization)                                                                                    \n",
            "                                                                                                  \n",
            " multi_head_attention_5 (MultiH  (None, 100, 64)     66368       ['layer_normalization_10[0][0]', \n",
            " eadAttention)                                                    'layer_normalization_10[0][0]'] \n",
            "                                                                                                  \n",
            " multi_head_attention_13 (Multi  (None, 100, 64)     66368       ['layer_normalization_27[0][0]', \n",
            " HeadAttention)                                                   'layer_normalization_27[0][0]'] \n",
            "                                                                                                  \n",
            " add_10 (Add)                   (None, 100, 64)      0           ['multi_head_attention_5[0][0]', \n",
            "                                                                  'add_9[0][0]']                  \n",
            "                                                                                                  \n",
            " add_26 (Add)                   (None, 100, 64)      0           ['multi_head_attention_13[0][0]',\n",
            "                                                                  'add_25[0][0]']                 \n",
            "                                                                                                  \n",
            " layer_normalization_11 (LayerN  (None, 100, 64)     128         ['add_10[0][0]']                 \n",
            " ormalization)                                                                                    \n",
            "                                                                                                  \n",
            " layer_normalization_28 (LayerN  (None, 100, 64)     128         ['add_26[0][0]']                 \n",
            " ormalization)                                                                                    \n",
            "                                                                                                  \n",
            " dense_11 (Dense)               (None, 100, 128)     8320        ['layer_normalization_11[0][0]'] \n",
            "                                                                                                  \n",
            " dense_28 (Dense)               (None, 100, 128)     8320        ['layer_normalization_28[0][0]'] \n",
            "                                                                                                  \n",
            " dropout_10 (Dropout)           (None, 100, 128)     0           ['dense_11[0][0]']               \n",
            "                                                                                                  \n",
            " dropout_26 (Dropout)           (None, 100, 128)     0           ['dense_28[0][0]']               \n",
            "                                                                                                  \n",
            " dense_12 (Dense)               (None, 100, 64)      8256        ['dropout_10[0][0]']             \n",
            "                                                                                                  \n",
            " dense_29 (Dense)               (None, 100, 64)      8256        ['dropout_26[0][0]']             \n",
            "                                                                                                  \n",
            " dropout_11 (Dropout)           (None, 100, 64)      0           ['dense_12[0][0]']               \n",
            "                                                                                                  \n",
            " dropout_27 (Dropout)           (None, 100, 64)      0           ['dense_29[0][0]']               \n",
            "                                                                                                  \n",
            " add_11 (Add)                   (None, 100, 64)      0           ['dropout_11[0][0]',             \n",
            "                                                                  'add_10[0][0]']                 \n",
            "                                                                                                  \n",
            " add_27 (Add)                   (None, 100, 64)      0           ['dropout_27[0][0]',             \n",
            "                                                                  'add_26[0][0]']                 \n",
            "                                                                                                  \n",
            " layer_normalization_12 (LayerN  (None, 100, 64)     128         ['add_11[0][0]']                 \n",
            " ormalization)                                                                                    \n",
            "                                                                                                  \n",
            " layer_normalization_29 (LayerN  (None, 100, 64)     128         ['add_27[0][0]']                 \n",
            " ormalization)                                                                                    \n",
            "                                                                                                  \n",
            " multi_head_attention_6 (MultiH  (None, 100, 64)     66368       ['layer_normalization_12[0][0]', \n",
            " eadAttention)                                                    'layer_normalization_12[0][0]'] \n",
            "                                                                                                  \n",
            " multi_head_attention_14 (Multi  (None, 100, 64)     66368       ['layer_normalization_29[0][0]', \n",
            " HeadAttention)                                                   'layer_normalization_29[0][0]'] \n",
            "                                                                                                  \n",
            " add_12 (Add)                   (None, 100, 64)      0           ['multi_head_attention_6[0][0]', \n",
            "                                                                  'add_11[0][0]']                 \n",
            "                                                                                                  \n",
            " add_28 (Add)                   (None, 100, 64)      0           ['multi_head_attention_14[0][0]',\n",
            "                                                                  'add_27[0][0]']                 \n",
            "                                                                                                  \n",
            " layer_normalization_13 (LayerN  (None, 100, 64)     128         ['add_12[0][0]']                 \n",
            " ormalization)                                                                                    \n",
            "                                                                                                  \n",
            " layer_normalization_30 (LayerN  (None, 100, 64)     128         ['add_28[0][0]']                 \n",
            " ormalization)                                                                                    \n",
            "                                                                                                  \n",
            " dense_13 (Dense)               (None, 100, 128)     8320        ['layer_normalization_13[0][0]'] \n",
            "                                                                                                  \n",
            " dense_30 (Dense)               (None, 100, 128)     8320        ['layer_normalization_30[0][0]'] \n",
            "                                                                                                  \n",
            " dropout_12 (Dropout)           (None, 100, 128)     0           ['dense_13[0][0]']               \n",
            "                                                                                                  \n",
            " dropout_28 (Dropout)           (None, 100, 128)     0           ['dense_30[0][0]']               \n",
            "                                                                                                  \n",
            " dense_14 (Dense)               (None, 100, 64)      8256        ['dropout_12[0][0]']             \n",
            "                                                                                                  \n",
            " dense_31 (Dense)               (None, 100, 64)      8256        ['dropout_28[0][0]']             \n",
            "                                                                                                  \n",
            " dropout_13 (Dropout)           (None, 100, 64)      0           ['dense_14[0][0]']               \n",
            "                                                                                                  \n",
            " dropout_29 (Dropout)           (None, 100, 64)      0           ['dense_31[0][0]']               \n",
            "                                                                                                  \n",
            " add_13 (Add)                   (None, 100, 64)      0           ['dropout_13[0][0]',             \n",
            "                                                                  'add_12[0][0]']                 \n",
            "                                                                                                  \n",
            " add_29 (Add)                   (None, 100, 64)      0           ['dropout_29[0][0]',             \n",
            "                                                                  'add_28[0][0]']                 \n",
            "                                                                                                  \n",
            " layer_normalization_14 (LayerN  (None, 100, 64)     128         ['add_13[0][0]']                 \n",
            " ormalization)                                                                                    \n",
            "                                                                                                  \n",
            " layer_normalization_31 (LayerN  (None, 100, 64)     128         ['add_29[0][0]']                 \n",
            " ormalization)                                                                                    \n",
            "                                                                                                  \n",
            " multi_head_attention_7 (MultiH  (None, 100, 64)     66368       ['layer_normalization_14[0][0]', \n",
            " eadAttention)                                                    'layer_normalization_14[0][0]'] \n",
            "                                                                                                  \n",
            " multi_head_attention_15 (Multi  (None, 100, 64)     66368       ['layer_normalization_31[0][0]', \n",
            " HeadAttention)                                                   'layer_normalization_31[0][0]'] \n",
            "                                                                                                  \n",
            " add_14 (Add)                   (None, 100, 64)      0           ['multi_head_attention_7[0][0]', \n",
            "                                                                  'add_13[0][0]']                 \n",
            "                                                                                                  \n",
            " add_30 (Add)                   (None, 100, 64)      0           ['multi_head_attention_15[0][0]',\n",
            "                                                                  'add_29[0][0]']                 \n",
            "                                                                                                  \n",
            " layer_normalization_15 (LayerN  (None, 100, 64)     128         ['add_14[0][0]']                 \n",
            " ormalization)                                                                                    \n",
            "                                                                                                  \n",
            " layer_normalization_32 (LayerN  (None, 100, 64)     128         ['add_30[0][0]']                 \n",
            " ormalization)                                                                                    \n",
            "                                                                                                  \n",
            " dense_15 (Dense)               (None, 100, 128)     8320        ['layer_normalization_15[0][0]'] \n",
            "                                                                                                  \n",
            " dense_32 (Dense)               (None, 100, 128)     8320        ['layer_normalization_32[0][0]'] \n",
            "                                                                                                  \n",
            " dropout_14 (Dropout)           (None, 100, 128)     0           ['dense_15[0][0]']               \n",
            "                                                                                                  \n",
            " dropout_30 (Dropout)           (None, 100, 128)     0           ['dense_32[0][0]']               \n",
            "                                                                                                  \n",
            " dense_16 (Dense)               (None, 100, 64)      8256        ['dropout_14[0][0]']             \n",
            "                                                                                                  \n",
            " dense_33 (Dense)               (None, 100, 64)      8256        ['dropout_30[0][0]']             \n",
            "                                                                                                  \n",
            " dropout_15 (Dropout)           (None, 100, 64)      0           ['dense_16[0][0]']               \n",
            "                                                                                                  \n",
            " dropout_31 (Dropout)           (None, 100, 64)      0           ['dense_33[0][0]']               \n",
            "                                                                                                  \n",
            " add_15 (Add)                   (None, 100, 64)      0           ['dropout_15[0][0]',             \n",
            "                                                                  'add_14[0][0]']                 \n",
            "                                                                                                  \n",
            " add_31 (Add)                   (None, 100, 64)      0           ['dropout_31[0][0]',             \n",
            "                                                                  'add_30[0][0]']                 \n",
            "                                                                                                  \n",
            " layer_normalization_16 (LayerN  (None, 100, 64)     128         ['add_15[0][0]']                 \n",
            " ormalization)                                                                                    \n",
            "                                                                                                  \n",
            " layer_normalization_33 (LayerN  (None, 100, 64)     128         ['add_31[0][0]']                 \n",
            " ormalization)                                                                                    \n",
            "                                                                                                  \n",
            " flatten (Flatten)              (None, 6400)         0           ['layer_normalization_16[0][0]'] \n",
            "                                                                                                  \n",
            " flatten_1 (Flatten)            (None, 6400)         0           ['layer_normalization_33[0][0]'] \n",
            "                                                                                                  \n",
            " concatenate (Concatenate)      (None, 12800)        0           ['flatten[0][0]',                \n",
            "                                                                  'flatten_1[0][0]']              \n",
            "                                                                                                  \n",
            " dropout_32 (Dropout)           (None, 12800)        0           ['concatenate[0][0]']            \n",
            "                                                                                                  \n",
            " dense_34 (Dense)               (None, 2048)         26216448    ['dropout_32[0][0]']             \n",
            "                                                                                                  \n",
            " dropout_33 (Dropout)           (None, 2048)         0           ['dense_34[0][0]']               \n",
            "                                                                                                  \n",
            " dense_35 (Dense)               (None, 1024)         2098176     ['dropout_33[0][0]']             \n",
            "                                                                                                  \n",
            " dropout_34 (Dropout)           (None, 1024)         0           ['dense_35[0][0]']               \n",
            "                                                                                                  \n",
            " dense_36 (Dense)               (None, 2)            2050        ['dropout_34[0][0]']             \n",
            "                                                                                                  \n",
            "==================================================================================================\n",
            "Total params: 29,699,465\n",
            "Trainable params: 29,699,458\n",
            "Non-trainable params: 7\n",
            "__________________________________________________________________________________________________\n",
            "Epoch 1/50\n",
            "12/12 [==============================] - 149s 10s/step - loss: 5.7113 - accuracy: 0.5167 - top-5-accuracy: 1.0000 - val_loss: 0.8258 - val_accuracy: 0.5500 - val_top-5-accuracy: 1.0000\n",
            "Epoch 2/50\n",
            "12/12 [==============================] - 115s 10s/step - loss: 0.9643 - accuracy: 0.5868 - top-5-accuracy: 1.0000 - val_loss: 0.5400 - val_accuracy: 0.7875 - val_top-5-accuracy: 1.0000\n",
            "Epoch 3/50\n",
            "12/12 [==============================] - 114s 10s/step - loss: 0.7909 - accuracy: 0.6299 - top-5-accuracy: 1.0000 - val_loss: 0.5405 - val_accuracy: 0.7625 - val_top-5-accuracy: 1.0000\n",
            "Epoch 4/50\n",
            "12/12 [==============================] - 117s 10s/step - loss: 0.5773 - accuracy: 0.7236 - top-5-accuracy: 1.0000 - val_loss: 0.4711 - val_accuracy: 0.7875 - val_top-5-accuracy: 1.0000\n",
            "Epoch 5/50\n",
            "12/12 [==============================] - 120s 10s/step - loss: 0.5462 - accuracy: 0.7528 - top-5-accuracy: 1.0000 - val_loss: 0.5127 - val_accuracy: 0.7063 - val_top-5-accuracy: 1.0000\n",
            "Epoch 6/50\n",
            "12/12 [==============================] - 116s 10s/step - loss: 0.5155 - accuracy: 0.7549 - top-5-accuracy: 1.0000 - val_loss: 0.3815 - val_accuracy: 0.8938 - val_top-5-accuracy: 1.0000\n",
            "Epoch 7/50\n",
            "12/12 [==============================] - 115s 10s/step - loss: 0.4421 - accuracy: 0.7951 - top-5-accuracy: 1.0000 - val_loss: 0.3814 - val_accuracy: 0.8375 - val_top-5-accuracy: 1.0000\n",
            "Epoch 8/50\n",
            "12/12 [==============================] - 115s 10s/step - loss: 0.4266 - accuracy: 0.8118 - top-5-accuracy: 1.0000 - val_loss: 0.3448 - val_accuracy: 0.8687 - val_top-5-accuracy: 1.0000\n",
            "Epoch 9/50\n",
            "12/12 [==============================] - 115s 10s/step - loss: 0.4067 - accuracy: 0.8243 - top-5-accuracy: 1.0000 - val_loss: 0.3131 - val_accuracy: 0.8500 - val_top-5-accuracy: 1.0000\n",
            "Epoch 10/50\n",
            "12/12 [==============================] - 121s 10s/step - loss: 0.3309 - accuracy: 0.8507 - top-5-accuracy: 1.0000 - val_loss: 0.2747 - val_accuracy: 0.8562 - val_top-5-accuracy: 1.0000\n",
            "Epoch 11/50\n",
            "12/12 [==============================] - 118s 10s/step - loss: 0.2667 - accuracy: 0.8993 - top-5-accuracy: 1.0000 - val_loss: 0.3180 - val_accuracy: 0.8375 - val_top-5-accuracy: 1.0000\n",
            "Epoch 12/50\n",
            "12/12 [==============================] - 116s 10s/step - loss: 0.2717 - accuracy: 0.8938 - top-5-accuracy: 1.0000 - val_loss: 0.2627 - val_accuracy: 0.8625 - val_top-5-accuracy: 1.0000\n",
            "Epoch 13/50\n",
            "12/12 [==============================] - 117s 10s/step - loss: 0.2414 - accuracy: 0.8972 - top-5-accuracy: 1.0000 - val_loss: 0.1871 - val_accuracy: 0.9250 - val_top-5-accuracy: 1.0000\n",
            "Epoch 14/50\n",
            "12/12 [==============================] - 117s 10s/step - loss: 0.2404 - accuracy: 0.9118 - top-5-accuracy: 1.0000 - val_loss: 0.1264 - val_accuracy: 0.9625 - val_top-5-accuracy: 1.0000\n",
            "Epoch 15/50\n",
            "12/12 [==============================] - 121s 10s/step - loss: 0.2402 - accuracy: 0.9021 - top-5-accuracy: 1.0000 - val_loss: 0.1615 - val_accuracy: 0.9563 - val_top-5-accuracy: 1.0000\n",
            "Epoch 16/50\n",
            "12/12 [==============================] - 116s 10s/step - loss: 0.2179 - accuracy: 0.9056 - top-5-accuracy: 1.0000 - val_loss: 0.2284 - val_accuracy: 0.8875 - val_top-5-accuracy: 1.0000\n",
            "Epoch 17/50\n",
            "12/12 [==============================] - 117s 10s/step - loss: 0.1985 - accuracy: 0.9278 - top-5-accuracy: 1.0000 - val_loss: 0.2789 - val_accuracy: 0.8750 - val_top-5-accuracy: 1.0000\n",
            "Epoch 18/50\n",
            "12/12 [==============================] - 117s 10s/step - loss: 0.2014 - accuracy: 0.9271 - top-5-accuracy: 1.0000 - val_loss: 0.1450 - val_accuracy: 0.9750 - val_top-5-accuracy: 1.0000\n",
            "Epoch 19/50\n",
            "12/12 [==============================] - 117s 10s/step - loss: 0.1608 - accuracy: 0.9389 - top-5-accuracy: 1.0000 - val_loss: 0.1645 - val_accuracy: 0.9312 - val_top-5-accuracy: 1.0000\n",
            "Epoch 20/50\n",
            "12/12 [==============================] - 120s 10s/step - loss: 0.1605 - accuracy: 0.9375 - top-5-accuracy: 1.0000 - val_loss: 0.4028 - val_accuracy: 0.8062 - val_top-5-accuracy: 1.0000\n",
            "Epoch 21/50\n",
            "12/12 [==============================] - 117s 10s/step - loss: 0.2282 - accuracy: 0.9139 - top-5-accuracy: 1.0000 - val_loss: 0.1362 - val_accuracy: 0.9625 - val_top-5-accuracy: 1.0000\n",
            "Epoch 22/50\n",
            "12/12 [==============================] - 117s 10s/step - loss: 0.2275 - accuracy: 0.9118 - top-5-accuracy: 1.0000 - val_loss: 0.1193 - val_accuracy: 0.9750 - val_top-5-accuracy: 1.0000\n",
            "Epoch 23/50\n",
            "12/12 [==============================] - 117s 10s/step - loss: 0.1635 - accuracy: 0.9479 - top-5-accuracy: 1.0000 - val_loss: 0.1745 - val_accuracy: 0.9375 - val_top-5-accuracy: 1.0000\n",
            "Epoch 24/50\n",
            "12/12 [==============================] - 116s 10s/step - loss: 0.1486 - accuracy: 0.9451 - top-5-accuracy: 1.0000 - val_loss: 0.2126 - val_accuracy: 0.9312 - val_top-5-accuracy: 1.0000\n",
            "Epoch 25/50\n",
            "12/12 [==============================] - 117s 10s/step - loss: 0.1636 - accuracy: 0.9424 - top-5-accuracy: 1.0000 - val_loss: 0.1820 - val_accuracy: 0.9312 - val_top-5-accuracy: 1.0000\n",
            "Epoch 26/50\n",
            "12/12 [==============================] - 123s 10s/step - loss: 0.1467 - accuracy: 0.9382 - top-5-accuracy: 1.0000 - val_loss: 0.2484 - val_accuracy: 0.8875 - val_top-5-accuracy: 1.0000\n",
            "Epoch 27/50\n",
            "12/12 [==============================] - 117s 10s/step - loss: 0.1552 - accuracy: 0.9410 - top-5-accuracy: 1.0000 - val_loss: 0.1404 - val_accuracy: 0.9438 - val_top-5-accuracy: 1.0000\n",
            "Epoch 28/50\n",
            "12/12 [==============================] - 117s 10s/step - loss: 0.1621 - accuracy: 0.9361 - top-5-accuracy: 1.0000 - val_loss: 0.1068 - val_accuracy: 0.9750 - val_top-5-accuracy: 1.0000\n",
            "Epoch 29/50\n",
            "12/12 [==============================] - 116s 10s/step - loss: 0.1501 - accuracy: 0.9486 - top-5-accuracy: 1.0000 - val_loss: 0.2640 - val_accuracy: 0.9000 - val_top-5-accuracy: 1.0000\n",
            "Epoch 30/50\n",
            "12/12 [==============================] - 116s 10s/step - loss: 0.1423 - accuracy: 0.9500 - top-5-accuracy: 1.0000 - val_loss: 0.1405 - val_accuracy: 0.9500 - val_top-5-accuracy: 1.0000\n",
            "Epoch 31/50\n",
            "12/12 [==============================] - 125s 10s/step - loss: 0.1280 - accuracy: 0.9528 - top-5-accuracy: 1.0000 - val_loss: 0.0988 - val_accuracy: 0.9688 - val_top-5-accuracy: 1.0000\n",
            "Epoch 32/50\n",
            "12/12 [==============================] - 118s 10s/step - loss: 0.1403 - accuracy: 0.9479 - top-5-accuracy: 1.0000 - val_loss: 0.0954 - val_accuracy: 0.9625 - val_top-5-accuracy: 1.0000\n",
            "Epoch 33/50\n",
            "12/12 [==============================] - 117s 10s/step - loss: 0.1468 - accuracy: 0.9458 - top-5-accuracy: 1.0000 - val_loss: 0.2057 - val_accuracy: 0.9250 - val_top-5-accuracy: 1.0000\n",
            "Epoch 34/50\n",
            "12/12 [==============================] - 117s 10s/step - loss: 0.1242 - accuracy: 0.9556 - top-5-accuracy: 1.0000 - val_loss: 0.1482 - val_accuracy: 0.9563 - val_top-5-accuracy: 1.0000\n",
            "Epoch 35/50\n",
            "12/12 [==============================] - 117s 10s/step - loss: 0.1272 - accuracy: 0.9528 - top-5-accuracy: 1.0000 - val_loss: 0.1124 - val_accuracy: 0.9500 - val_top-5-accuracy: 1.0000\n",
            "Epoch 36/50\n",
            "12/12 [==============================] - 118s 10s/step - loss: 0.1152 - accuracy: 0.9563 - top-5-accuracy: 1.0000 - val_loss: 0.0913 - val_accuracy: 0.9625 - val_top-5-accuracy: 1.0000\n",
            "Epoch 37/50\n",
            "12/12 [==============================] - 117s 10s/step - loss: 0.1201 - accuracy: 0.9604 - top-5-accuracy: 1.0000 - val_loss: 0.1295 - val_accuracy: 0.9563 - val_top-5-accuracy: 1.0000\n",
            "Epoch 38/50\n",
            "12/12 [==============================] - 118s 10s/step - loss: 0.1249 - accuracy: 0.9549 - top-5-accuracy: 1.0000 - val_loss: 0.0745 - val_accuracy: 0.9750 - val_top-5-accuracy: 1.0000\n",
            "Epoch 39/50\n",
            "12/12 [==============================] - 117s 10s/step - loss: 0.1440 - accuracy: 0.9493 - top-5-accuracy: 1.0000 - val_loss: 0.1503 - val_accuracy: 0.9500 - val_top-5-accuracy: 1.0000\n",
            "Epoch 40/50\n",
            "12/12 [==============================] - 117s 10s/step - loss: 0.1289 - accuracy: 0.9514 - top-5-accuracy: 1.0000 - val_loss: 0.1990 - val_accuracy: 0.9500 - val_top-5-accuracy: 1.0000\n",
            "Epoch 41/50\n",
            "12/12 [==============================] - 119s 10s/step - loss: 0.1204 - accuracy: 0.9563 - top-5-accuracy: 1.0000 - val_loss: 0.1247 - val_accuracy: 0.9625 - val_top-5-accuracy: 1.0000\n",
            "Epoch 42/50\n",
            "12/12 [==============================] - 117s 10s/step - loss: 0.1157 - accuracy: 0.9604 - top-5-accuracy: 1.0000 - val_loss: 0.1305 - val_accuracy: 0.9563 - val_top-5-accuracy: 1.0000\n",
            "Epoch 43/50\n",
            "12/12 [==============================] - 122s 10s/step - loss: 0.0935 - accuracy: 0.9646 - top-5-accuracy: 1.0000 - val_loss: 0.1831 - val_accuracy: 0.9375 - val_top-5-accuracy: 1.0000\n",
            "Epoch 44/50\n",
            "12/12 [==============================] - 120s 10s/step - loss: 0.1042 - accuracy: 0.9576 - top-5-accuracy: 1.0000 - val_loss: 0.1162 - val_accuracy: 0.9688 - val_top-5-accuracy: 1.0000\n",
            "Epoch 45/50\n",
            "12/12 [==============================] - 119s 10s/step - loss: 0.1292 - accuracy: 0.9458 - top-5-accuracy: 1.0000 - val_loss: 0.0557 - val_accuracy: 0.9750 - val_top-5-accuracy: 1.0000\n",
            "Epoch 46/50\n",
            "12/12 [==============================] - 120s 10s/step - loss: 0.1550 - accuracy: 0.9410 - top-5-accuracy: 1.0000 - val_loss: 0.0715 - val_accuracy: 0.9812 - val_top-5-accuracy: 1.0000\n",
            "Epoch 47/50\n",
            "12/12 [==============================] - 118s 10s/step - loss: 0.1240 - accuracy: 0.9535 - top-5-accuracy: 1.0000 - val_loss: 0.1115 - val_accuracy: 0.9500 - val_top-5-accuracy: 1.0000\n",
            "Epoch 48/50\n",
            "12/12 [==============================] - 120s 10s/step - loss: 0.1058 - accuracy: 0.9590 - top-5-accuracy: 1.0000 - val_loss: 0.1350 - val_accuracy: 0.9438 - val_top-5-accuracy: 1.0000\n",
            "Epoch 49/50\n",
            "12/12 [==============================] - 118s 10s/step - loss: 0.1109 - accuracy: 0.9563 - top-5-accuracy: 1.0000 - val_loss: 0.1359 - val_accuracy: 0.9438 - val_top-5-accuracy: 1.0000\n",
            "Epoch 50/50\n",
            "12/12 [==============================] - 119s 10s/step - loss: 0.1076 - accuracy: 0.9646 - top-5-accuracy: 1.0000 - val_loss: 0.2389 - val_accuracy: 0.9000 - val_top-5-accuracy: 1.0000\n",
            "13/13 [==============================] - 17s 1s/step - loss: 0.1171 - accuracy: 0.9550 - top-5-accuracy: 1.0000\n",
            "Test accuracy: 95.5%\n",
            "Test top 5 accuracy: 100.0%\n"
          ]
        }
      ],
      "source": [
        "\n",
        "def run_experiment(model):\n",
        "    optimizer = tfa.optimizers.AdamW(\n",
        "        learning_rate=learning_rate, weight_decay=weight_decay\n",
        "    )\n",
        "\n",
        "    model.compile(\n",
        "        optimizer=optimizer,\n",
        "        loss=keras.losses.SparseCategoricalCrossentropy(from_logits=True),\n",
        "        metrics=[\n",
        "            keras.metrics.SparseCategoricalAccuracy(name=\"accuracy\"),\n",
        "            keras.metrics.SparseTopKCategoricalAccuracy(5, name=\"top-5-accuracy\"),\n",
        "            \n",
        "        ],\n",
        "    )\n",
        "\n",
        "    checkpoint_filepath = \"/tmp/checkpoint\"\n",
        "    checkpoint_callback = keras.callbacks.ModelCheckpoint(\n",
        "        checkpoint_filepath,\n",
        "        monitor=\"val_accuracy\",\n",
        "        save_best_only=True,\n",
        "        save_weights_only=True,\n",
        "    )\n",
        "\n",
        "    model.summary()\n",
        "\n",
        "    history = model.fit(\n",
        "        x=[X_train8,X_train2],\n",
        "        y=Y_train,\n",
        "        batch_size=batch_size,\n",
        "        epochs=num_epochs,\n",
        "        validation_split=0.1,\n",
        "        callbacks=[checkpoint_callback],\n",
        "    )\n",
        "\n",
        "    model.load_weights(checkpoint_filepath)\n",
        "    _, accuracy, top_5_accuracy = model.evaluate([X_test8,X_test2],Y_test8)\n",
        "    y_pred1 = model.predict([X_test8,X_test2])\n",
        "    print(f\"Test accuracy: {round(accuracy * 100, 2)}%\")\n",
        "    print(f\"Test top 5 accuracy: {round(top_5_accuracy * 100, 2)}%\")\n",
        "\n",
        "    return history,y_pred1\n",
        "\n",
        "\n",
        "ECG_image_classifier = create_ECG_image_classifier()\n",
        "history,y_pred1 = run_experiment(ECG_image_classifier)"
      ]
    },
    {
      "cell_type": "code",
      "source": [
        "y_pred1.shape"
      ],
      "metadata": {
        "colab": {
          "base_uri": "https://localhost:8080/"
        },
        "id": "rL1g-vF7-BOT",
        "outputId": "56455818-8122-4cde-ce3c-0f4156daa6bc"
      },
      "execution_count": 30,
      "outputs": [
        {
          "output_type": "execute_result",
          "data": {
            "text/plain": [
              "(400, 2)"
            ]
          },
          "metadata": {},
          "execution_count": 30
        }
      ]
    },
    {
      "cell_type": "code",
      "source": [
        "y_final=np.zeros(400);"
      ],
      "metadata": {
        "id": "-XFVqLbwH1zs"
      },
      "execution_count": 31,
      "outputs": []
    },
    {
      "cell_type": "code",
      "source": [
        "y_final.shape"
      ],
      "metadata": {
        "colab": {
          "base_uri": "https://localhost:8080/"
        },
        "id": "JPgbf7rcH-QD",
        "outputId": "5a50c358-565b-4cd0-87f5-0ab34ea13afb"
      },
      "execution_count": 32,
      "outputs": [
        {
          "output_type": "execute_result",
          "data": {
            "text/plain": [
              "(400,)"
            ]
          },
          "metadata": {},
          "execution_count": 32
        }
      ]
    },
    {
      "cell_type": "code",
      "source": [
        "for i in range(0,400):\n",
        "  if (y_pred1[i,0]>y_pred1[i,1]):\n",
        "      y_final[i]=0;\n",
        "  else:\n",
        "    y_final[i]=1;\n",
        "\n",
        "    \n"
      ],
      "metadata": {
        "id": "YWPpvQSz-b7b"
      },
      "execution_count": 33,
      "outputs": []
    },
    {
      "cell_type": "code",
      "source": [
        "Y_test8.shape"
      ],
      "metadata": {
        "colab": {
          "base_uri": "https://localhost:8080/"
        },
        "id": "zD8Htn2sI071",
        "outputId": "7b829427-90c6-427d-9d5f-91fc4528d4b6"
      },
      "execution_count": 34,
      "outputs": [
        {
          "output_type": "execute_result",
          "data": {
            "text/plain": [
              "(400,)"
            ]
          },
          "metadata": {},
          "execution_count": 34
        }
      ]
    },
    {
      "cell_type": "code",
      "source": [
        "y_final.shape"
      ],
      "metadata": {
        "colab": {
          "base_uri": "https://localhost:8080/"
        },
        "id": "ePfLdYgDIy3P",
        "outputId": "a23c6e0b-1f77-4c3e-db8e-a3c5761e0447"
      },
      "execution_count": 35,
      "outputs": [
        {
          "output_type": "execute_result",
          "data": {
            "text/plain": [
              "(400,)"
            ]
          },
          "metadata": {},
          "execution_count": 35
        }
      ]
    },
    {
      "cell_type": "code",
      "source": [
        "from sklearn.metrics import precision_score\n",
        "from sklearn.metrics import recall_score"
      ],
      "metadata": {
        "id": "MFNXkez7Jdl3"
      },
      "execution_count": 36,
      "outputs": []
    },
    {
      "cell_type": "code",
      "source": [
        "precision = precision_score(Y_test8,y_final)\n",
        "recall = recall_score(Y_test8,y_final)"
      ],
      "metadata": {
        "id": "sgjJX_vMJCTg"
      },
      "execution_count": 37,
      "outputs": []
    },
    {
      "cell_type": "code",
      "source": [
        "print('Precision: ',precision)\n",
        "print('Recall: ',recall)"
      ],
      "metadata": {
        "colab": {
          "base_uri": "https://localhost:8080/"
        },
        "id": "af2zuhRZJq8m",
        "outputId": "732a6822-2c8a-43ce-8645-9a8196b9b1c1"
      },
      "execution_count": 38,
      "outputs": [
        {
          "output_type": "stream",
          "name": "stdout",
          "text": [
            "Precision:  0.933649289099526\n",
            "Recall:  0.9800995024875622\n"
          ]
        }
      ]
    },
    {
      "cell_type": "code",
      "source": [
        "from sklearn.metrics import confusion_matrix\n"
      ],
      "metadata": {
        "id": "RvwyEzWkKd2E"
      },
      "execution_count": 39,
      "outputs": []
    },
    {
      "cell_type": "code",
      "source": [
        "F1 = 2 * (precision * recall) / (precision + recall)\n"
      ],
      "metadata": {
        "id": "OQlggweJKxzE"
      },
      "execution_count": 40,
      "outputs": []
    },
    {
      "cell_type": "code",
      "source": [
        "print(F1)"
      ],
      "metadata": {
        "colab": {
          "base_uri": "https://localhost:8080/"
        },
        "id": "A2uxG6xEK0WU",
        "outputId": "8eade326-2b19-47ab-d1f9-fba59e0d8667"
      },
      "execution_count": 41,
      "outputs": [
        {
          "output_type": "stream",
          "name": "stdout",
          "text": [
            "0.9563106796116504\n"
          ]
        }
      ]
    },
    {
      "cell_type": "code",
      "source": [
        "print(history.history.keys())\n",
        "# summarize history for accuracy\n",
        "plt.plot(history.history['accuracy'])\n",
        "plt.plot(history.history['val_accuracy'])\n",
        "plt.title('model accuracy')\n",
        "plt.ylabel('accuracy')\n",
        "plt.xlabel('epoch')\n",
        "plt.legend(['train', 'test'], loc='upper left')\n",
        "plt.show()\n",
        "# summarize history for loss\n",
        "plt.plot(history.history['loss'])\n",
        "plt.plot(history.history['val_loss'])\n",
        "plt.title('model loss')\n",
        "plt.ylabel('loss')\n",
        "plt.xlabel('epoch')\n",
        "plt.legend(['train', 'test'], loc='upper left')\n",
        "plt.show()"
      ],
      "metadata": {
        "id": "RrC0EF2kK4QP",
        "colab": {
          "base_uri": "https://localhost:8080/",
          "height": 590
        },
        "outputId": "d5173f13-a033-4df6-ccc3-1511bf0f856a"
      },
      "execution_count": 42,
      "outputs": [
        {
          "output_type": "stream",
          "name": "stdout",
          "text": [
            "dict_keys(['loss', 'accuracy', 'top-5-accuracy', 'val_loss', 'val_accuracy', 'val_top-5-accuracy'])\n"
          ]
        },
        {
          "output_type": "display_data",
          "data": {
            "text/plain": [
              "<Figure size 432x288 with 1 Axes>"
            ],
            "image/png": "[encoded data removed]"
          },
          "metadata": {
            "needs_background": "light"
          }
        },
        {
          "output_type": "display_data",
          "data": {
            "text/plain": [
              "<Figure size 432x288 with 1 Axes>"
            ],
            "image/png": "[encoded data removed]"
          },
          "metadata": {
            "needs_background": "light"
          }
        }
      ]
    }
  ],
  "metadata": {
    "colab": {
      "collapsed_sections": [],
      "name": "withallmetric_final.ipynb",
      "provenance": []
    },
    "kernelspec": {
      "display_name": "Python 3 (ipykernel)",
      "language": "python",
      "name": "python3"
    },
    "language_info": {
      "codemirror_mode": {
        "name": "ipython",
        "version": 3
      },
      "file_extension": ".py",
      "mimetype": "text/x-python",
      "name": "python",
      "nbconvert_exporter": "python",
      "pygments_lexer": "ipython3",
      "version": "3.10.0"
    }
  },
  "nbformat": 4,
  "nbformat_minor": 0
}